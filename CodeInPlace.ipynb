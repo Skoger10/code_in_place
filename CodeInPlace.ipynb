{
  "nbformat": 4,
  "nbformat_minor": 0,
  "metadata": {
    "colab": {
      "provenance": [],
      "authorship_tag": "ABX9TyMt/9PJkAem32/CMbcasGTh",
      "include_colab_link": true
    },
    "kernelspec": {
      "name": "python3",
      "display_name": "Python 3"
    },
    "language_info": {
      "name": "python"
    }
  },
  "cells": [
    {
      "cell_type": "markdown",
      "metadata": {
        "id": "view-in-github",
        "colab_type": "text"
      },
      "source": [
        "<a href=\"https://colab.research.google.com/github/Skoger10/code_in_place/blob/main/CodeInPlace.ipynb\" target=\"_parent\"><img src=\"https://colab.research.google.com/assets/colab-badge.svg\" alt=\"Open In Colab\"/></a>"
      ]
    },
    {
      "cell_type": "markdown",
      "source": [
        "# Week 1: Welcome"
      ],
      "metadata": {
        "id": "K688Vo-AnvHR"
      }
    },
    {
      "cell_type": "code",
      "execution_count": null,
      "metadata": {
        "id": "oDGncWwGnV38"
      },
      "outputs": [],
      "source": []
    },
    {
      "cell_type": "markdown",
      "source": [
        "# Week 2: Stepwise Refinement"
      ],
      "metadata": {
        "id": "la_gm7ZOngx2"
      }
    },
    {
      "cell_type": "code",
      "source": [],
      "metadata": {
        "id": "PryLiG7mnsrU"
      },
      "execution_count": null,
      "outputs": []
    },
    {
      "cell_type": "markdown",
      "source": [
        "# Week 3: Intro to Python"
      ],
      "metadata": {
        "id": "Fwm2Qm2mntaX"
      }
    },
    {
      "cell_type": "code",
      "source": [],
      "metadata": {
        "id": "RHWNNmVnn_6t"
      },
      "execution_count": null,
      "outputs": []
    },
    {
      "cell_type": "markdown",
      "source": [
        "# Week 4: Python Control Flow"
      ],
      "metadata": {
        "id": "YtnXRAbcoAsT"
      }
    },
    {
      "cell_type": "markdown",
      "source": [
        "## 1. Lesson: While/If in Python"
      ],
      "metadata": {
        "id": "sLUXaI1hoMGq"
      }
    },
    {
      "cell_type": "code",
      "source": [],
      "metadata": {
        "id": "Fs33SIt-oI4R"
      },
      "execution_count": null,
      "outputs": []
    },
    {
      "cell_type": "markdown",
      "source": [
        "## 2. Double it"
      ],
      "metadata": {
        "id": "XK8u5M6uoaW6"
      }
    },
    {
      "cell_type": "code",
      "source": [],
      "metadata": {
        "id": "TcZIu5M8oej8"
      },
      "execution_count": null,
      "outputs": []
    },
    {
      "cell_type": "markdown",
      "source": [
        "## 3. Joke Bolt\n",
        "- Write a simple joke bot. starting by asking what user wants? only repond to one response: Joke\n",
        "- If the users enter Joke, then print out the single joke, which is always the same as this:\n",
        "  - Here is a joke for you! Karel is heading out the grocery store. a programmer tells her: get a lite rof milk, and if they have eggs, get 12. karel returns with 13 liters of milk. the programmer asks why and Karel replies: 'becasue they have eggs'.\n",
        "  - if the user enters anything else we print out: Sorry I only tell jokes\n",
        "  - use three constants:\n",
        "    - PROMPT\n",
        "    - JOKE\n",
        "    - SORRY"
      ],
      "metadata": {
        "id": "Hztqaq5Zoiua"
      }
    },
    {
      "cell_type": "code",
      "source": [
        "PROMPT = \"What do you want? \"\n",
        "JOKE = \"Here is a joke for you! Karel is heading out the grocery store. a programmer tells her: get a liter of milk, and if they have eggs, get 12. kare\treturns with 13 liters of milk. the programmer asks why and Karel replies: 'becasue they have eggs'.\"\n",
        "SORRY = \"Sorry I only tell jokes\"\n",
        "\n",
        "def main():\n",
        "  user_input = input(PROMPT)\n",
        "  user_input = user_input.lower()\n",
        "  if user_input != 'joke':\n",
        "    print(SORRY)\n",
        "  else:\n",
        "    print(JOKE)\n",
        "\n",
        "if __name__ == \"__main__\":\n",
        "  main()\n",
        "\n"
      ],
      "metadata": {
        "colab": {
          "base_uri": "https://localhost:8080/"
        },
        "id": "0JK0dDoEol8O",
        "outputId": "60cde345-84de-4772-f871-45e6131556f4"
      },
      "execution_count": 9,
      "outputs": [
        {
          "output_type": "stream",
          "name": "stdout",
          "text": [
            "What do you want? JOKE\n",
            "Here is a joke for you! Karel is heading out the grocery store. a programmer tells her: get a liter of milk, and if they have eggs, get 12. kare\treturns with 13 liters of milk. the programmer asks why and Karel replies: 'becasue they have eggs'.\n"
          ]
        }
      ]
    },
    {
      "cell_type": "markdown",
      "source": [
        "## Khansole Academy\n",
        "- A simple program that generates 2 random numbers, ask for those two number addition, and give the feedback whether correct or not, and provide corect result."
      ],
      "metadata": {
        "id": "T9yhBW4Kv-OQ"
      }
    },
    {
      "cell_type": "code",
      "source": [
        "import random as r # random library to randomly generate 2 numbers\n",
        "\n",
        "def main():\n",
        "  print(\"Khansole Academy, welcome to the addition game!\")\n",
        "  num_1 = r.randint(10, 99) # generate first random number\n",
        "  num_2 = r.randint(10, 99) # second number\n",
        "  add_2_numbers = num_1 + num_2\n",
        "  print(f\"what is {num_1} + {num_2}?\")\n",
        "  user_input = input(\"Your answer: \")\n",
        "  user_input = int(user_input)\n",
        "  if user_input != add_2_numbers:\n",
        "    print(\"Incorrect\")\n",
        "    print(f'The expected answer is {add_2_numbers}')\n",
        "  else:\n",
        "    print('Correct!')\n",
        "\n",
        "\n",
        "if __name__ == '__main__':\n",
        "  (main())"
      ],
      "metadata": {
        "colab": {
          "base_uri": "https://localhost:8080/"
        },
        "id": "VirfPN6J8-Zq",
        "outputId": "baeb18e9-bcb6-457c-efc7-432cddab5eb4"
      },
      "execution_count": 14,
      "outputs": [
        {
          "output_type": "stream",
          "name": "stdout",
          "text": [
            "Khansole Academy, welcome to the addition game!\n",
            "what is 61 + 43?\n",
            "Your answer: 104\n",
            "Correct!\n"
          ]
        }
      ]
    }
  ]
}